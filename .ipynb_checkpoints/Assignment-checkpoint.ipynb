{
 "cells": [
  {
   "cell_type": "code",
   "execution_count": 1,
   "id": "d87107c2-8b57-492b-97db-b9e4f30aea13",
   "metadata": {},
   "outputs": [
    {
     "name": "stdout",
     "output_type": "stream",
     "text": [
      "Total number of rows = 68856\n",
      "Total number of rows after removing empty rows = 49233\n"
     ]
    }
   ],
   "source": [
    "from pyspark.sql import SparkSession, functions as F\n",
    "from pyspark.sql.functions import col, udf, regexp_replace, year, countDistinct, col, count, desc, when\n",
    "from pyspark.sql.types import DateType\n",
    "\n",
    "# Create SparkSession\n",
    "spark = SparkSession.builder.appName(\"Data frames\").getOrCreate()\n",
    "\n",
    "####################\n",
    "#   Data Loading   #\n",
    "####################\n",
    "\n",
    "# Read the CSV file into a DataFrame\n",
    "df = spark.read \\\n",
    "    .options(inferSchema='True', header='True') \\\n",
    "    .csv('Datasets.csv')\n",
    "\n",
    "print(\"Total number of rows = {}\".format(df.count()))\n",
    "\n",
    "# drop all empty row\n",
    "df_filter = df.na.drop(\"all\")\n",
    "print(\"Total number of rows after removing empty rows = {}\".format(df_filter.count()))"
   ]
  },
  {
   "cell_type": "code",
   "execution_count": 2,
   "id": "6cae9cc2-9239-42e1-96fd-0123b3bb954a",
   "metadata": {},
   "outputs": [
    {
     "name": "stdout",
     "output_type": "stream",
     "text": [
      "+----------+\n",
      "|Issue Date|\n",
      "+----------+\n",
      "|08-04-2013|\n",
      "|08-04-2013|\n",
      "|08-05-2013|\n",
      "|08-05-2013|\n",
      "|08-08-2013|\n",
      "|08-11-2013|\n",
      "|08-11-2013|\n",
      "|08-07-2013|\n",
      "|08-07-2013|\n",
      "|07-18-2013|\n",
      "+----------+\n",
      "only showing top 10 rows\n",
      "\n",
      "+----------+\n",
      "|Issue Date|\n",
      "+----------+\n",
      "|2013-08-04|\n",
      "|2013-08-04|\n",
      "|2013-08-05|\n",
      "|2013-08-05|\n",
      "|2013-08-08|\n",
      "|2013-08-11|\n",
      "|2013-08-11|\n",
      "|2013-08-07|\n",
      "|2013-08-07|\n",
      "|2013-07-18|\n",
      "+----------+\n",
      "only showing top 10 rows\n",
      "\n"
     ]
    }
   ],
   "source": [
    "####################\n",
    "# Examine the data #\n",
    "####################\n",
    "\n",
    "# converting all string into single date format\n",
    "date_df = df_filter.withColumn('Issue Date', regexp_replace('Issue Date', '/', '-'))\n",
    "date_df.select('Issue Date').show(10)\n",
    "\n",
    "# converting all string to date data type\n",
    "date_df = date_df.withColumn(\n",
    "            'Issue Date',\n",
    "                F.to_date(\n",
    "                    F.unix_timestamp('Issue Date', 'MM-dd-yyyy').cast('timestamp')))\n",
    "\n",
    "date_df.select('Issue Date').show(10)"
   ]
  },
  {
   "cell_type": "code",
   "execution_count": 3,
   "id": "b91b621c-b900-481b-9ecb-2827cf1aa377",
   "metadata": {},
   "outputs": [
    {
     "name": "stdout",
     "output_type": "stream",
     "text": [
      "+----+-----+\n",
      "|year|count|\n",
      "+----+-----+\n",
      "|1973|    1|\n",
      "|2000|   16|\n",
      "|2003|    2|\n",
      "|2005|    1|\n",
      "|2008|    1|\n",
      "|2010|    9|\n",
      "|2011|    4|\n",
      "|2012|   36|\n",
      "|2013|49073|\n",
      "|2014|   40|\n",
      "|2015|   23|\n",
      "|2016|    5|\n",
      "|2017|    5|\n",
      "|2018|    4|\n",
      "|2019|    5|\n",
      "|2023|    1|\n",
      "|2030|    1|\n",
      "|2031|    4|\n",
      "|2041|    1|\n",
      "|2049|    1|\n",
      "+----+-----+\n",
      "\n"
     ]
    }
   ],
   "source": [
    "df_with_year = date_df.withColumn(\"year\", year(date_df[\"Issue Date\"]))\n",
    "\n",
    "total_tickets_by_year = df_with_year.groupBy(\"year\").count().orderBy(F.asc(\"year\"))\n",
    "\n",
    "total_tickets_by_year.show()\n"
   ]
  },
  {
   "cell_type": "code",
   "execution_count": 4,
   "id": "be7205b7-360f-45a9-8c4b-d13454fc39e1",
   "metadata": {},
   "outputs": [
    {
     "name": "stdout",
     "output_type": "stream",
     "text": [
      "Number of unique states: 61\n"
     ]
    }
   ],
   "source": [
    "unique_states_count = date_df.select(\"Registration State\").distinct().count()\n",
    "\n",
    "print(\"Number of unique states:\", unique_states_count)"
   ]
  },
  {
   "cell_type": "code",
   "execution_count": 5,
   "id": "8f208450-901a-496e-9800-f40c1e15399b",
   "metadata": {},
   "outputs": [
    {
     "name": "stdout",
     "output_type": "stream",
     "text": [
      "+------------------+-----+\n",
      "|Registration State|count|\n",
      "+------------------+-----+\n",
      "|                NY|35447|\n",
      "|                NJ| 5467|\n",
      "|                PA| 1952|\n",
      "|                99| 1056|\n",
      "|                CT|  871|\n",
      "|                FL|  574|\n",
      "|                VA|  550|\n",
      "|                MA|  547|\n",
      "|                IL|  341|\n",
      "|                MD|  303|\n",
      "|                GA|  176|\n",
      "|                SC|  162|\n",
      "|                NC|  159|\n",
      "|                TN|  156|\n",
      "|                CA|  148|\n",
      "|                IN|  123|\n",
      "|                RI|  117|\n",
      "|                TX|  110|\n",
      "|                WI|   96|\n",
      "|                GV|   88|\n",
      "+------------------+-----+\n",
      "only showing top 20 rows\n",
      "\n"
     ]
    }
   ],
   "source": [
    "# Step 1: Find the state with the maximum entries\n",
    "state_entries = date_df.groupBy(\"Registration State\").agg(count(\"*\").alias(\"count\")).orderBy(desc(\"count\"))\n",
    "\n",
    "state_entries.show()"
   ]
  },
  {
   "cell_type": "code",
   "execution_count": 6,
   "id": "23e8d77d-0c3f-4beb-9973-158df796312b",
   "metadata": {
    "scrolled": true
   },
   "outputs": [
    {
     "name": "stdout",
     "output_type": "stream",
     "text": [
      "State with max entries is NY\n"
     ]
    }
   ],
   "source": [
    "state_with_max_entries = state_entries.select(\"Registration State\").first()[0]\n",
    "\n",
    "print(\"State with max entries is\", state_with_max_entries)"
   ]
  },
  {
   "cell_type": "code",
   "execution_count": 7,
   "id": "cd81d12b-3ff1-4d7d-ac8b-8ee14b2b0c30",
   "metadata": {},
   "outputs": [
    {
     "name": "stdout",
     "output_type": "stream",
     "text": [
      "Number of unique states after correction: 60\n"
     ]
    }
   ],
   "source": [
    "# Step 2: Replace '99' entries with the state having maximum entries\n",
    "df_corrected = date_df.withColumn(\"Registration State\", when(col(\"Registration State\") == '99',state_with_max_entries).\n",
    "                                  otherwise(col(\"Registration State\")))\n",
    "\n",
    "# Step 3: Count the number of unique states again\n",
    "unique_states_count = df_corrected.select(\"Registration State\").distinct().count()\n",
    "\n",
    "print(\"Number of unique states after correction:\", unique_states_count)"
   ]
  },
  {
   "cell_type": "code",
   "execution_count": 8,
   "id": "b2333070-2b08-4b51-86fe-91654218becd",
   "metadata": {},
   "outputs": [
    {
     "name": "stdout",
     "output_type": "stream",
     "text": [
      "+--------------+-----+\n",
      "|Violation Code|count|\n",
      "+--------------+-----+\n",
      "|            46|11266|\n",
      "|             5| 4367|\n",
      "|            21| 4009|\n",
      "|            14| 3821|\n",
      "|            20| 3242|\n",
      "+--------------+-----+\n",
      "\n"
     ]
    }
   ],
   "source": [
    "#####################\n",
    "# Aggregation tasks #\n",
    "#####################\n",
    "# Filter out rows with null violation code\n",
    "df_violation_filtered = df.filter(col(\"Violation Code\").isNotNull())\n",
    "\n",
    "# Group by violation code and count the occurrences\n",
    "violation_counts = df_violation_filtered.groupBy(\"Violation Code\").count()\n",
    "\n",
    "# Sort the counts in descending order\n",
    "sorted_counts = violation_counts.orderBy(desc(\"count\"))\n",
    "\n",
    "# Display the top five violation codes\n",
    "top_five = sorted_counts.limit(5)\n",
    "\n",
    "# Show the results\n",
    "top_five.show()\n"
   ]
  },
  {
   "cell_type": "code",
   "execution_count": 9,
   "id": "a583dc54-e35e-4179-b53b-192b695bb675",
   "metadata": {},
   "outputs": [
    {
     "name": "stdout",
     "output_type": "stream",
     "text": [
      "Top 5 Vehicle Body Types:\n",
      "+-----------------+-----+\n",
      "|Vehicle Body Type|count|\n",
      "+-----------------+-----+\n",
      "|              SDN|11534|\n",
      "|              VAN|10083|\n",
      "|             DELV| 8393|\n",
      "|             SUBN| 8296|\n",
      "|             4DSD| 2708|\n",
      "+-----------------+-----+\n",
      "\n"
     ]
    }
   ],
   "source": [
    "# Filter out rows with null Vehicle Body Type\n",
    "df_body_type_filtered = df.filter(col(\"Violation Code\").isNotNull())\n",
    "\n",
    "# Group by 'vehicle body type' and count the occurrences\n",
    "body_type_counts = df_body_type_filtered.groupBy(\"Vehicle Body Type\").count()\n",
    "\n",
    "# Sort the counts in descending order\n",
    "sorted_body_type_counts = body_type_counts.orderBy(col(\"count\").desc())\n",
    "\n",
    "# Display the top five 'vehicle body types'\n",
    "top_five_body_types = sorted_body_type_counts.limit(5)\n",
    "\n",
    "# Show the results for 'vehicle body types'\n",
    "print(\"Top 5 Vehicle Body Types:\")\n",
    "top_five_body_types.show()"
   ]
  },
  {
   "cell_type": "code",
   "execution_count": 10,
   "id": "40625e89-6697-4c7f-b87d-56dd19917209",
   "metadata": {
    "jp-MarkdownHeadingCollapsed": true
   },
   "outputs": [
    {
     "name": "stdout",
     "output_type": "stream",
     "text": [
      "Top 5 Vehicle Makes:\n",
      "+------------+-----+\n",
      "|Vehicle Make|count|\n",
      "+------------+-----+\n",
      "|        FORD| 6934|\n",
      "|       CHEVR| 3871|\n",
      "|       TOYOT| 3797|\n",
      "|       HONDA| 3059|\n",
      "|         GMC| 3036|\n",
      "+------------+-----+\n",
      "\n"
     ]
    }
   ],
   "source": [
    "df_vehicle_make_filtered = df.filter(col(\"Vehicle Make\").isNotNull())\n",
    "\n",
    "# Group by 'vehicle make' and count the occurrences\n",
    "make_counts = df_vehicle_make_filtered.groupBy(\"Vehicle Make\").count()\n",
    "\n",
    "# Sort the counts in descending order\n",
    "sorted_make_counts = make_counts.orderBy(col(\"count\").desc())\n",
    "\n",
    "# Display the top five 'vehicle makes'\n",
    "top_five_makes = sorted_make_counts.limit(5)\n",
    "\n",
    "# Show the results for 'vehicle makes'\n",
    "print(\"Top 5 Vehicle Makes:\")\n",
    "top_five_makes.show()"
   ]
  },
  {
   "cell_type": "code",
   "execution_count": 11,
   "id": "5fde6700-980b-4fb1-bc2d-f6e86b445054",
   "metadata": {},
   "outputs": [
    {
     "name": "stdout",
     "output_type": "stream",
     "text": [
      "Top 5 Violation Precincts:\n",
      "+------------------+-----+\n",
      "|Violation Precinct|count|\n",
      "+------------------+-----+\n",
      "|                19| 3247|\n",
      "|                18| 2019|\n",
      "|                14| 1879|\n",
      "|                 1| 1793|\n",
      "|                17| 1551|\n",
      "+------------------+-----+\n",
      "\n"
     ]
    }
   ],
   "source": [
    "# Filter out erroneous entries with 'Violation Precinct' as '0' and group by 'Violation Precinct'\n",
    "violation_precinct_counts = df.filter(col(\"Violation Precinct\") != '0').groupBy(\"Violation Precinct\").count()\n",
    "\n",
    "# Sort the counts in descending order\n",
    "sorted_violation_precinct_counts = violation_precinct_counts.orderBy(col(\"count\").desc())\n",
    "\n",
    "# Display the top five 'Violation Precincts'\n",
    "top_five_violation_precincts = sorted_violation_precinct_counts.limit(5)\n",
    "\n",
    "# Show the results for 'Violation Precincts'\n",
    "print(\"Top 5 Violation Precincts:\")\n",
    "top_five_violation_precincts.show()"
   ]
  },
  {
   "cell_type": "code",
   "execution_count": 12,
   "id": "640e86c4-3ef8-4904-bce2-b36d3ba5a108",
   "metadata": {},
   "outputs": [
    {
     "name": "stdout",
     "output_type": "stream",
     "text": [
      "Top 6 Issuer Precincts:\n",
      "+---------------+-----+\n",
      "|Issuer Precinct|count|\n",
      "+---------------+-----+\n",
      "|            401| 5368|\n",
      "|             19| 1213|\n",
      "|            109| 1072|\n",
      "|            162| 1047|\n",
      "|             18| 1016|\n",
      "|              1|  989|\n",
      "+---------------+-----+\n",
      "\n"
     ]
    }
   ],
   "source": [
    "\n",
    "# Filter out erroneous entries with 'Issuer Precinct' as '0' and group by 'Issuer Precinct'\n",
    "issuer_precinct_counts = df.filter(col(\"Issuer Precinct\") != '0').groupBy(\"Issuer Precinct\").count()\n",
    "\n",
    "# Sort the counts in descending order\n",
    "sorted_issuer_precinct_counts = issuer_precinct_counts.orderBy(col(\"count\").desc())\n",
    "\n",
    "# Display the top six 'Issuer Precincts'\n",
    "top_six_issuer_precincts = sorted_issuer_precinct_counts.limit(6)\n",
    "\n",
    "# Show the results for 'Issuer Precincts'\n",
    "print(\"Top 6 Issuer Precincts:\")\n",
    "top_six_issuer_precincts.show()"
   ]
  },
  {
   "cell_type": "code",
   "execution_count": null,
   "id": "c6dfb82f-ecad-466f-ae67-5ef41d4a8ca4",
   "metadata": {
    "scrolled": true
   },
   "outputs": [],
   "source": [
    "\n"
   ]
  },
  {
   "cell_type": "code",
   "execution_count": null,
   "id": "61563357-9c40-4511-a9b6-3301d3e8c7ea",
   "metadata": {},
   "outputs": [],
   "source": []
  }
 ],
 "metadata": {
  "kernelspec": {
   "display_name": "Python 3 (ipykernel)",
   "language": "python",
   "name": "python3"
  },
  "language_info": {
   "codemirror_mode": {
    "name": "ipython",
    "version": 3
   },
   "file_extension": ".py",
   "mimetype": "text/x-python",
   "name": "python",
   "nbconvert_exporter": "python",
   "pygments_lexer": "ipython3",
   "version": "3.8.7"
  }
 },
 "nbformat": 4,
 "nbformat_minor": 5
}
